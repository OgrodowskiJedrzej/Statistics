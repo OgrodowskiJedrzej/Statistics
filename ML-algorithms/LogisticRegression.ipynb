{
 "cells": [
  {
   "cell_type": "markdown",
   "metadata": {},
   "source": [
    "Import libraries"
   ]
  },
  {
   "cell_type": "code",
   "execution_count": 1,
   "metadata": {},
   "outputs": [
    {
     "data": {
      "text/plain": [
       "{'divide': 'warn', 'over': 'warn', 'under': 'ignore', 'invalid': 'warn'}"
      ]
     },
     "execution_count": 1,
     "metadata": {},
     "output_type": "execute_result"
    }
   ],
   "source": [
    "import numpy as np\n",
    "import matplotlib.pyplot as plt\n",
    "from sklearn.model_selection import train_test_split\n",
    "from sklearn.datasets import load_breast_cancer\n",
    "\n",
    "np.seterr(all=\"ignore\")"
   ]
  },
  {
   "cell_type": "code",
   "execution_count": 2,
   "metadata": {},
   "outputs": [],
   "source": [
    "ds = load_breast_cancer()\n",
    "X, y = ds.data, ds.target\n",
    "XTrain, XTest, yTrain, yTest = train_test_split(X,y,test_size=0.2)"
   ]
  },
  {
   "cell_type": "markdown",
   "metadata": {},
   "source": [
    "Model"
   ]
  },
  {
   "cell_type": "code",
   "execution_count": 3,
   "metadata": {},
   "outputs": [],
   "source": [
    "class LogisticRegression():\n",
    "    # setting default values\n",
    "    def __init__(self, learningRate: int = 0.001, number_of_iterations: int = 1000) -> None:\n",
    "        self.learningRate = learningRate\n",
    "        self.numberOfIterations = number_of_iterations\n",
    "        self.weights = None\n",
    "        self.bias = None\n",
    "\n",
    "    def sigmoid(self, z) -> float:\n",
    "        return 1 / (1 + np.exp(-z))\n",
    "\n",
    "    def fit(self, X, y) -> None:\n",
    "        # initialize values to zero that will be updated using Gradient Descent Algorithm\n",
    "        numberOfSamples, numberOfFeatures = X.shape\n",
    "        self.weights = np.zeros(numberOfFeatures)\n",
    "        self.bias = 0\n",
    "\n",
    "        # using Gradient Descent Algorithm to update values of weights and bias\n",
    "        for i in range(self.numberOfIterations):\n",
    "            linearPrediction = np.dot(X, self.weights) + self.bias\n",
    "            predictions = self.sigmoid(linearPrediction)\n",
    "            # calculate deriatives\n",
    "            dw = (1/numberOfSamples) * np.dot(X.T, (predictions - y))\n",
    "            db = (1/numberOfSamples) * np.sum(predictions - y)\n",
    "            # update weights and bias with given learning rate\n",
    "            self.weights = self.weights - self.learningRate * dw\n",
    "            self.bias = self.bias - self.learningRate * db\n",
    "            \n",
    "    def predict(self,X) -> list[int]:\n",
    "        linearPrediction = np.dot(X, self.weights) + self.bias\n",
    "        yPredicted = self.sigmoid(linearPrediction)\n",
    "        classPredicted = [0 if y<=0.5 else 1 for y in yPredicted]\n",
    "        return classPredicted"
   ]
  },
  {
   "cell_type": "code",
   "execution_count": 5,
   "metadata": {},
   "outputs": [
    {
     "name": "stdout",
     "output_type": "stream",
     "text": [
      "Accuracy: 92.11%\n"
     ]
    }
   ],
   "source": [
    "logisticRegression = LogisticRegression()\n",
    "logisticRegression.fit(XTrain,yTrain)\n",
    "yPredicted = logisticRegression.predict(XTest)\n",
    "\n",
    "accuracy = np.sum(yTest == yPredicted) / len(yTest)\n",
    "print(f\"Accuracy: {accuracy*100:.2f}%\")"
   ]
  }
 ],
 "metadata": {
  "kernelspec": {
   "display_name": "Python 3",
   "language": "python",
   "name": "python3"
  },
  "language_info": {
   "codemirror_mode": {
    "name": "ipython",
    "version": 3
   },
   "file_extension": ".py",
   "mimetype": "text/x-python",
   "name": "python",
   "nbconvert_exporter": "python",
   "pygments_lexer": "ipython3",
   "version": "3.12.2"
  }
 },
 "nbformat": 4,
 "nbformat_minor": 2
}
